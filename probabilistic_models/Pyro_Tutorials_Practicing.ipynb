{
  "nbformat": 4,
  "nbformat_minor": 0,
  "metadata": {
    "colab": {
      "name": "Pyro_Tutorials_Practicing.ipynb",
      "provenance": [],
      "authorship_tag": "ABX9TyNgObQq5wCJ2mYmwLN9ZxDR",
      "include_colab_link": true
    },
    "kernelspec": {
      "name": "python3",
      "display_name": "Python 3"
    }
  },
  "cells": [
    {
      "cell_type": "markdown",
      "metadata": {
        "id": "view-in-github",
        "colab_type": "text"
      },
      "source": [
        "<a href=\"https://colab.research.google.com/github/christoforou/CUS1166_Project_Template/blob/master/probabilistic_models/Pyro_Tutorials_Practicing.ipynb\" target=\"_parent\"><img src=\"https://colab.research.google.com/assets/colab-badge.svg\" alt=\"Open In Colab\"/></a>"
      ]
    },
    {
      "cell_type": "markdown",
      "metadata": {
        "id": "uPgtp4OsyiOV"
      },
      "source": [
        "# Practicing Pyro. \n",
        "The following tutorial in intented for getting familiary with the Pyro library and probabilitistic models. \n",
        "\n",
        "**References** \n",
        "\n",
        "- [Introduction to Inference with Pyro](https://pyro.ai/examples/intro_part_ii.html)\n",
        "- [Setting up Pyro on Colab](https://medium.com/paper-club/how-to-set-up-google-colab-colaboratory-for-building-pyro-models-8e51129e772a)\n",
        "- [Quickstart on Pytorch in Colab](https://medium.com/dair-ai/pytorch-1-2-quickstart-with-google-colab-6690a30c38d) \n"
      ]
    },
    {
      "cell_type": "markdown",
      "metadata": {
        "id": "OHZuzCOWHkgm"
      },
      "source": [
        "### Installing PyTorch and Pyro"
      ]
    },
    {
      "cell_type": "code",
      "metadata": {
        "id": "L9HkzeTMY62Q",
        "colab": {
          "base_uri": "https://localhost:8080/"
        },
        "outputId": "ff84b4d3-29e2-4682-d474-0c4422dcb52f"
      },
      "source": [
        "# \n",
        "# Pytoch Tutorial with Pyro\n",
        "\n",
        "# Colab package installations\n",
        "from os import path\n",
        "#from wheel.pep425tags import get_abbr_impl, get_impl_ver, get_abi_tag\n",
        "#platform = '{}{}-{}'.format(get_abbr_impl(), get_impl_ver(), get_abi_tag())\n",
        "\n",
        "accelerator = 'cu80' if path.exists('/opt/bin/nvidia-smi') else 'cpu'\n",
        "\n",
        "#!pip3 install -q http://download.pytorch.org/whl/{accelerator}/torch-0.4.0-{platform}-linux_x86_64.whl\n",
        "\n",
        "!pip3 install torch==1.2.0+cu92 torchvision==0.4.0+cu92 -f https://download.pytorch.org/whl/torch_stable.html\n",
        "!pip3 install torchvision\n",
        "!pip3 install pyro-ppl"
      ],
      "execution_count": 2,
      "outputs": [
        {
          "output_type": "stream",
          "text": [
            "Looking in links: https://download.pytorch.org/whl/torch_stable.html\n",
            "Collecting torch==1.2.0+cu92\n",
            "\u001b[?25l  Downloading https://download.pytorch.org/whl/cu92/torch-1.2.0%2Bcu92-cp37-cp37m-manylinux1_x86_64.whl (663.1MB)\n",
            "\u001b[K     |████████████████████████████████| 663.1MB 28kB/s \n",
            "\u001b[?25hCollecting torchvision==0.4.0+cu92\n",
            "\u001b[?25l  Downloading https://download.pytorch.org/whl/cu92/torchvision-0.4.0%2Bcu92-cp37-cp37m-manylinux1_x86_64.whl (8.8MB)\n",
            "\u001b[K     |████████████████████████████████| 8.8MB 30.4MB/s \n",
            "\u001b[?25hRequirement already satisfied: numpy in /usr/local/lib/python3.7/dist-packages (from torch==1.2.0+cu92) (1.19.5)\n",
            "Requirement already satisfied: six in /usr/local/lib/python3.7/dist-packages (from torchvision==0.4.0+cu92) (1.15.0)\n",
            "Requirement already satisfied: pillow>=4.1.1 in /usr/local/lib/python3.7/dist-packages (from torchvision==0.4.0+cu92) (7.0.0)\n",
            "\u001b[31mERROR: torchtext 0.9.0 has requirement torch==1.8.0, but you'll have torch 1.2.0+cu92 which is incompatible.\u001b[0m\n",
            "Installing collected packages: torch, torchvision\n",
            "  Found existing installation: torch 1.8.0+cu101\n",
            "    Uninstalling torch-1.8.0+cu101:\n",
            "      Successfully uninstalled torch-1.8.0+cu101\n",
            "  Found existing installation: torchvision 0.9.0+cu101\n",
            "    Uninstalling torchvision-0.9.0+cu101:\n",
            "      Successfully uninstalled torchvision-0.9.0+cu101\n",
            "Successfully installed torch-1.2.0+cu92 torchvision-0.4.0+cu92\n",
            "Requirement already satisfied: torchvision in /usr/local/lib/python3.7/dist-packages (0.4.0+cu92)\n",
            "Requirement already satisfied: six in /usr/local/lib/python3.7/dist-packages (from torchvision) (1.15.0)\n",
            "Requirement already satisfied: numpy in /usr/local/lib/python3.7/dist-packages (from torchvision) (1.19.5)\n",
            "Requirement already satisfied: pillow>=4.1.1 in /usr/local/lib/python3.7/dist-packages (from torchvision) (7.0.0)\n",
            "Requirement already satisfied: torch==1.2.0 in /usr/local/lib/python3.7/dist-packages (from torchvision) (1.2.0+cu92)\n",
            "Collecting pyro-ppl\n",
            "\u001b[?25l  Downloading https://files.pythonhosted.org/packages/aa/7a/fbab572fd385154a0c07b0fa138683aa52e14603bb83d37b198e5f9269b1/pyro_ppl-1.6.0-py3-none-any.whl (634kB)\n",
            "\u001b[K     |████████████████████████████████| 634kB 8.7MB/s \n",
            "\u001b[?25hRequirement already satisfied: tqdm>=4.36 in /usr/local/lib/python3.7/dist-packages (from pyro-ppl) (4.41.1)\n",
            "Requirement already satisfied: opt-einsum>=2.3.2 in /usr/local/lib/python3.7/dist-packages (from pyro-ppl) (3.3.0)\n",
            "Requirement already satisfied: numpy>=1.7 in /usr/local/lib/python3.7/dist-packages (from pyro-ppl) (1.19.5)\n",
            "Collecting torch>=1.8.0\n",
            "\u001b[?25l  Downloading https://files.pythonhosted.org/packages/94/99/5861239a6e1ffe66e120f114a4d67e96e5c4b17c1a785dfc6ca6769585fc/torch-1.8.0-cp37-cp37m-manylinux1_x86_64.whl (735.5MB)\n",
            "\u001b[K     |████████████████████████████████| 735.5MB 24kB/s \n",
            "\u001b[?25hCollecting pyro-api>=0.1.1\n",
            "  Downloading https://files.pythonhosted.org/packages/fc/81/957ae78e6398460a7230b0eb9b8f1cb954c5e913e868e48d89324c68cec7/pyro_api-0.1.2-py3-none-any.whl\n",
            "Requirement already satisfied: typing-extensions in /usr/local/lib/python3.7/dist-packages (from torch>=1.8.0->pyro-ppl) (3.7.4.3)\n",
            "\u001b[31mERROR: torchvision 0.4.0+cu92 has requirement torch==1.2.0, but you'll have torch 1.8.0 which is incompatible.\u001b[0m\n",
            "Installing collected packages: torch, pyro-api, pyro-ppl\n",
            "  Found existing installation: torch 1.2.0+cu92\n",
            "    Uninstalling torch-1.2.0+cu92:\n",
            "      Successfully uninstalled torch-1.2.0+cu92\n",
            "Successfully installed pyro-api-0.1.2 pyro-ppl-1.6.0 torch-1.8.0\n"
          ],
          "name": "stdout"
        }
      ]
    },
    {
      "cell_type": "code",
      "metadata": {
        "id": "EobndiqtaRN-"
      },
      "source": [
        "import torch\n",
        "import pyro\n",
        "\n",
        "pyro.set_rng_seed(101)"
      ],
      "execution_count": 4,
      "outputs": []
    },
    {
      "cell_type": "markdown",
      "metadata": {
        "id": "q7Yir_XRd64K"
      },
      "source": [
        "### 1. Introduction to Probabilistic Models \n",
        "The basic unit of probabilistic programs is the stochastic function. This is an arbitrary Python callable that combines two ingredients:\n",
        "  - deterministic Python code; and\n",
        "  - primitive stochastic functions that call a random number generator\n",
        "\n",
        "Concretely, a stochastic function can be any Python object with a __call__() method, like a function, a method, or a PyTorch nn.Module.\n",
        "\n",
        "Primitive stochastic functions, or distributions, are an important class of stochastic functions for which we can explicitly compute the probability of the outputs given the inputs.\n",
        "```python \n",
        "loc = 0.   # mean zero\n",
        "scale = 1. # unit variance\n",
        "normal = torch.distributions.Normal(loc, scale) # create a normal distribution object\n",
        "x = normal.rsample() # draw a sample from N(0,1)\n",
        "print(\"sample\", x)\n",
        "print(\"log prob\", normal.log_prob(x)) # score the sample from N(0,1)\n",
        "```"
      ]
    },
    {
      "cell_type": "code",
      "metadata": {
        "id": "kph8kP0mdd6N",
        "colab": {
          "base_uri": "https://localhost:8080/"
        },
        "outputId": "903e1e71-bc28-40c4-a5b8-7abf96938cdf"
      },
      "source": [
        "# Examle code to generate sample from a Normal distribution   \n",
        "loc = 0.   # mean zero\n",
        "scale = 1. # unit variance\n",
        "normal = torch.distributions.Normal(loc, scale) # create a normal distribution object\n",
        "x = normal.rsample() # draw a sample from N(0,1)\n",
        "print(\"sample\", x)\n",
        "print(\"log prob\", normal.log_prob(x)) # score the sample from N(0,1)"
      ],
      "execution_count": 6,
      "outputs": [
        {
          "output_type": "stream",
          "text": [
            "sample tensor(-0.8152)\n",
            "log prob tensor(-1.2512)\n"
          ],
          "name": "stdout"
        }
      ]
    },
    {
      "cell_type": "markdown",
      "metadata": {
        "id": "bXOpeTBRikGN"
      },
      "source": [
        "#### 1.1 Simple weather model - defining a joint probability \n",
        "All probabilistic programs are built up by composing primitive stochastic functions and deterministic computation.\n",
        "\n",
        "Let’s suppose we have a bunch of data with daily mean temperatures and cloud cover. We want to reason about how temperature interacts with whether it was sunny or cloudy. A simple stochastic function that describes how that data might have been generated is given by \n",
        "```python \n",
        "def weather():\n",
        "    cloudy = torch.distributions.Bernoulli(0.3).sample()    # draw a sample from a Bernoulli 0 or 1 \n",
        "    cloudy = 'cloudy' if cloudy.item() == 1.0 else 'sunny'  # Transform cloudt into 'cloudy' or 'sunny'\n",
        "    mean_temp = {'cloudy': 55.0, 'sunny': 75.0}[cloudy]     # mean tempereture when clould/ sunny\n",
        "    scale_temp = {'cloudy': 10.0, 'sunny': 15.0}[cloudy]    # standar diviation for each conditions.\n",
        "    temp = torch.distributions.Normal(mean_temp, scale_temp).rsample()\n",
        "    return cloudy, temp.item()\n",
        "```\n",
        "\n",
        "To turn weather into a Pyro program, we’ll replace the `torch.distributions` with `pyro.distributions` and the `.sample()` and `.rsample()` calls with calls to `pyro.sample`, one of the core language primitives in Pyro. \n",
        "\n",
        "```python \n",
        "def weather_pyro():\n",
        "  # Get a sample from a Bernoulli Distribution using Pyro.Sample \n",
        "  cloudy = pyro.sample('cloudy',pyro.distributions.Bernoulli(probs=0.3))\n",
        "  cloudy = 'cloudy' if cloudy.item() == 1.0 else 'sunny'  # Transform cloudt into 'cloudy' or 'sunny'\n",
        "  mean_temp = {'cloudy': 55.0, 'sunny': 75.0}[cloudy]     # mean tempereture when clould/ sunny\n",
        "  scale_temp = {'cloudy': 10.0, 'sunny': 15.0}[cloudy]    # standar diviation for each conditions.\n",
        "\n",
        "  temp = pyro.sample('temp', pyro.distributions.Normal(mean_temp,scale_temp))\n",
        "  return cloudy, temp.item()\n",
        "```\n",
        "\n",
        "\n",
        "Procedurally, weather() is still a non-deterministic Python callable that returns two random samples. Because the randomness is now invoked with pyro.sample, however, it is much more than that. In particular `weather()` specifies a joint probability distribution over two named random variables: cloudy and temp. As such, it defines a probabilistic model that we can reason about using the techniques of probability theory. For example we might ask: if I observe a temperature of 70 degrees, how likely is it to be cloudy? How to formulate and answer these kinds of questions will be the subject of the next tutorial.\n",
        "\n",
        "```python\n",
        "def ice_cream_sales():\n",
        "    cloudy, temp = weather()\n",
        "    expected_sales = 200. if cloudy == 'sunny' and temp > 80.0 else 50.\n",
        "    ice_cream = pyro.sample('ice_cream', pyro.distributions.Normal(expected_sales, 10.0))\n",
        "    return ice_cream\n",
        "``` \n"
      ]
    },
    {
      "cell_type": "code",
      "metadata": {
        "id": "shbo1v03eyDf"
      },
      "source": [
        "# Define a generative model for weather - a stochastic functions. \n",
        "def weather():\n",
        "    cloudy = torch.distributions.Bernoulli(0.3).sample()    # draw a sample from a Bernoulli 0 or 1 \n",
        "    cloudy = 'cloudy' if cloudy.item() == 1.0 else 'sunny'  # Transform cloud into 'cloudy' or 'sunny'\n",
        "    \n",
        "    # based on the value of cloudy, choose a mean temperature, and a mean std. \n",
        "    mean_temp = {'cloudy': 55.0, 'sunny': 75.0}[cloudy]     # mean tempereture when clouldy/ sunny; Not\n",
        "    scale_temp = {'cloudy': 10.0, 'sunny': 15.0}[cloudy]    # standar diviation for each conditions.\n",
        "\n",
        "    # Draw a sample temperature from a Normal destribution with the selected mean. \n",
        "    temp = torch.distributions.Normal(mean_temp, scale_temp).rsample()\n",
        "    \n",
        "    return cloudy, temp.item()"
      ],
      "execution_count": 11,
      "outputs": []
    },
    {
      "cell_type": "code",
      "metadata": {
        "id": "2dLPvavHIg0D",
        "outputId": "024dde62-ba15-46b7-9487-96ddf0543ba5",
        "colab": {
          "base_uri": "https://localhost:8080/"
        }
      },
      "source": [
        "\n",
        "cloudy, temperature = weather()\n",
        "print(f\"Weather is '{cloudy}' and the temerature is {temperature}\")"
      ],
      "execution_count": 21,
      "outputs": [
        {
          "output_type": "stream",
          "text": [
            "Weather is 'sunny' and the temerature is 87.60794067382812\n"
          ],
          "name": "stdout"
        }
      ]
    },
    {
      "cell_type": "code",
      "metadata": {
        "id": "Y1KOjZB8gqbD"
      },
      "source": [
        "# Define the same model, but using pyro wraper function. \n",
        "# Important: Now pyro defines a joint probability distribution over two random variables\n",
        "# 'cloudy' and 'temp' \n",
        "\n",
        "def weather_pyro():\n",
        "  # Get a sample from a Bernoulli Distribution using Pyro.Sample \n",
        "  # A crucial difference is that this sample is named;  \n",
        "  cloudy = pyro.sample('cloudy',pyro.distributions.Bernoulli(probs=0.3))\n",
        " \n",
        "  cloudy = 'cloudy' if cloudy.item() == 1.0 else 'sunny'  # Transform cloudt into 'cloudy' or 'sunny'\n",
        "  mean_temp = {'cloudy': 55.0, 'sunny': 75.0}[cloudy]     # mean tempereture when clould/ sunny\n",
        "  scale_temp = {'cloudy': 10.0, 'sunny': 15.0}[cloudy]    # standar diviation for each conditions.\n",
        "\n",
        "  # Here we use pyro.distributions.Normal instead, a wrapper to pytorch.distributions.Normal \n",
        "  # Again notice that the sample is named \n",
        "  temp = pyro.sample('temp', pyro.distributions.Normal(mean_temp,scale_temp))\n",
        "  return cloudy, temp.item()"
      ],
      "execution_count": 22,
      "outputs": []
    },
    {
      "cell_type": "code",
      "metadata": {
        "id": "Gn6h3oqJi-4v",
        "colab": {
          "base_uri": "https://localhost:8080/"
        },
        "outputId": "fa7024bc-dfd6-43a0-b9d7-bda581fb9f0a"
      },
      "source": [
        "#\n",
        "# Generate sample. \n",
        "for _ in range(3):\n",
        "    print(weather_pyro())\n",
        "\n"
      ],
      "execution_count": 23,
      "outputs": [
        {
          "output_type": "stream",
          "text": [
            "('sunny', 76.62906646728516)\n",
            "('cloudy', 42.30691146850586)\n",
            "('sunny', 55.182289123535156)\n"
          ],
          "name": "stdout"
        }
      ]
    },
    {
      "cell_type": "markdown",
      "metadata": {
        "id": "n8QOX_q2abgX"
      },
      "source": [
        "We can use a stochastic function (like the `weather_pyro` function to create a composite models. For example, we can model the joint probability of cloudy, temperature and ice_cream sales). "
      ]
    },
    {
      "cell_type": "code",
      "metadata": {
        "id": "B7RflEvRYHvi"
      },
      "source": [
        "def ice_cream_sales(): \n",
        "  # Get a sample from weather_pyro model (i.e. the joint distribution of cloudy, temperature)\n",
        "  cloudy, temperature = weather_pyro() \n",
        "  \n",
        "  # defined expected sales (mean sales) as a function of cloudy and temperature variables. \n",
        "  expected_sales = 50.0 \n",
        "  if (cloudy == 'sunny') and (temperature > 80.):\n",
        "    expected_sales = 200.0\n",
        "\n",
        "  # generate a sample for ice-cream sales; from a normab distribution with mean expected_sales and 10 variance.  \n",
        "  ice_cream = pyro.sample('ice_cream', pyro.distributions.Normal(expected_sales,10))\n",
        "\n",
        "  return cloudy, temperature, ice_cream.item() \n"
      ],
      "execution_count": 36,
      "outputs": []
    },
    {
      "cell_type": "code",
      "metadata": {
        "id": "NsQ2RX9PaDMy",
        "outputId": "93e091bd-e3dd-4ce9-aef0-8d0be51023df",
        "colab": {
          "base_uri": "https://localhost:8080/"
        }
      },
      "source": [
        "ice_cream_sales()"
      ],
      "execution_count": 37,
      "outputs": [
        {
          "output_type": "execute_result",
          "data": {
            "text/plain": [
              "('sunny', 82.8541259765625, 204.81045532226562)"
            ]
          },
          "metadata": {
            "tags": []
          },
          "execution_count": 37
        }
      ]
    },
    {
      "cell_type": "markdown",
      "metadata": {
        "id": "8UkplIAWhBLv"
      },
      "source": [
        "We can use `recursion` and `random control flow` (i.e. if statement where the condition is a random variable itself), to build arbitraryly complex models. When using recursion, we need to make sure we pass the variable index (i.e. t in the example below) to uniquely identify the variables being samples.  The `geometric` method below generates a sample indicating the number of trials needed to get a single success is a bernulli trial with success probability p.  "
      ]
    },
    {
      "cell_type": "code",
      "metadata": {
        "id": "ybzWBk2da7JG"
      },
      "source": [
        "# p indicates the probability of success, t denotes the trial.\n",
        "# The expeciment is number of trials until first success. \n",
        "\n",
        "def geometric(p, t=None):\n",
        "  t = 0 if t==None else t \n",
        "\n",
        "  # Draw a sample from a bernulli distrupution with success probability p \n",
        "  # Notice that each variable is named; with an increasing index. \n",
        "\n",
        "  x = pyro.sample(f\"x_{t}\", pyro.distributions.Bernoulli(p))\n",
        "\n",
        "  if (x.item()== 1):\n",
        "    # return t, indicating that the t-th trial was successfull. \n",
        "    return t\n",
        "  else :\n",
        "    # current trial was not successful, recursivly call \n",
        "    return geometric(p,t+1)"
      ],
      "execution_count": 52,
      "outputs": []
    },
    {
      "cell_type": "code",
      "metadata": {
        "id": "oxThvgZnh8vd",
        "outputId": "1dad8c95-8590-4911-dbc1-6b369acd3773",
        "colab": {
          "base_uri": "https://localhost:8080/"
        }
      },
      "source": [
        "geometric(0.3)"
      ],
      "execution_count": 56,
      "outputs": [
        {
          "output_type": "execute_result",
          "data": {
            "text/plain": [
              "0"
            ]
          },
          "metadata": {
            "tags": []
          },
          "execution_count": 56
        }
      ]
    },
    {
      "cell_type": "code",
      "metadata": {
        "id": "wM9EpkR9iUCp"
      },
      "source": [
        "# Notice the pyro.sample generates a tensor, using .item() gets us the raw value of the tensor  \n",
        "t = 100\n",
        "x = pyro.sample(f\"x_{t}\", pyro.distributions.Bernoulli(0.5))"
      ],
      "execution_count": 61,
      "outputs": []
    },
    {
      "cell_type": "markdown",
      "metadata": {
        "id": "M_ApywOZjTFl"
      },
      "source": [
        "We can also define `Higher Order Stochastic Functions`; that would be stochastic functions that return stochastic functions.  "
      ]
    },
    {
      "cell_type": "code",
      "metadata": {
        "id": "cozGMvBGiaNg"
      },
      "source": [
        "# This function return a sample from the random variable which is the product of two normaly distributed random variables.\n",
        "\n",
        "def normal_product(loc, scale):\n",
        "  # Generate one sample from a normal with mean loc, and variabce scale. \n",
        "  z1 = pyro.sample(\"z1\", pyro.distributions.Normal(loc,scale))\n",
        "  z2 = pyro.sample(\"z2\", pyro.distributions.Normal(loc,scale))\n",
        "\n",
        "  # Deterministically calculate the new variable z, as the product of two random values. \n",
        "  z = z1*z2 \n",
        "  return z \n",
        "\n",
        "# Notice this is a Higher order function, it returns a lambda function.\n",
        "def make_normal_normal():\n",
        "    # Randomly \n",
        "    mu_latent = pyro.sample('mu_latent', pyro.distributions.Normal(0,1))\n",
        "\n",
        "    # This lambda function takes as input a scale, and returns the output of teh normal_product.\n",
        "    # notice fn is a reference to the lambda function. \n",
        "    fn = lambda scale : normal_product(mu_latent,scale)\n",
        "\n",
        "    return fn \n"
      ],
      "execution_count": 70,
      "outputs": []
    },
    {
      "cell_type": "code",
      "metadata": {
        "id": "wWCl5eDcl-O_",
        "outputId": "e0037609-53d0-4b9f-8dd7-b52bad31a94a",
        "colab": {
          "base_uri": "https://localhost:8080/"
        }
      },
      "source": [
        "# Notice that make_normal_normal() returns a function; which we invoke once it is returned. \n",
        "# When invoked, the stochastic function create 3 named random variables 'mu_latent', 'z1', 'z2'\n",
        "\n",
        "make_normal_normal()(0.1)"
      ],
      "execution_count": 71,
      "outputs": [
        {
          "output_type": "execute_result",
          "data": {
            "text/plain": [
              "tensor(0.1159)"
            ]
          },
          "metadata": {
            "tags": []
          },
          "execution_count": 71
        }
      ]
    },
    {
      "cell_type": "markdown",
      "metadata": {
        "id": "WC_QzkyeQOQD"
      },
      "source": [
        "#### 1.2 Universality "
      ]
    },
    {
      "cell_type": "code",
      "metadata": {
        "id": "PICLQz21jA0T"
      },
      "source": [
        "t=1 \n",
        "t=0 if t==None else t "
      ],
      "execution_count": 45,
      "outputs": []
    },
    {
      "cell_type": "code",
      "metadata": {
        "id": "5thy1ftGcFwh",
        "outputId": "a49795c5-a763-46c8-b1a4-972689135db1",
        "colab": {
          "base_uri": "https://localhost:8080/"
        }
      },
      "source": [
        "t"
      ],
      "execution_count": 46,
      "outputs": [
        {
          "output_type": "execute_result",
          "data": {
            "text/plain": [
              "1"
            ]
          },
          "metadata": {
            "tags": []
          },
          "execution_count": 46
        }
      ]
    },
    {
      "cell_type": "markdown",
      "metadata": {
        "id": "2vwzClSmQMQ6"
      },
      "source": [
        ""
      ]
    },
    {
      "cell_type": "code",
      "metadata": {
        "id": "q3m48ZCau_Cv"
      },
      "source": [
        ""
      ],
      "execution_count": null,
      "outputs": []
    },
    {
      "cell_type": "markdown",
      "metadata": {
        "id": "4bQ_L_4rS1Ui"
      },
      "source": [
        "## An Introduction to Inference in Pyro"
      ]
    },
    {
      "cell_type": "code",
      "metadata": {
        "id": "4obhcnQvS3UZ"
      },
      "source": [
        ""
      ],
      "execution_count": null,
      "outputs": []
    }
  ]
}