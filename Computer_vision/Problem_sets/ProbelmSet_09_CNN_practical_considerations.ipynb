{
  "nbformat": 4,
  "nbformat_minor": 0,
  "metadata": {
    "colab": {
      "name": "ProbelmSet08_CNN_practical_considerations.ipynb",
      "provenance": [],
      "authorship_tag": "ABX9TyPgLaN3xD6/JjPoOertfdPd",
      "include_colab_link": true
    },
    "kernelspec": {
      "name": "python3",
      "display_name": "Python 3"
    }
  },
  "cells": [
    {
      "cell_type": "markdown",
      "metadata": {
        "id": "view-in-github",
        "colab_type": "text"
      },
      "source": [
        "<a href=\"https://colab.research.google.com/github/christoforou/CUS1166_Project_Template/blob/master/Computer_vision/Problem_sets/ProbelmSet_09_CNN_practical_considerations.ipynb\" target=\"_parent\"><img src=\"https://colab.research.google.com/assets/colab-badge.svg\" alt=\"Open In Colab\"/></a>"
      ]
    },
    {
      "cell_type": "markdown",
      "metadata": {
        "id": "SoKGHVI2gK_E"
      },
      "source": [
        "This notebook is part the of Dr. Christoforos Christoforou's course materials. You may not, nor may you knowingly allow others to reproduce or distribute lecture notes, course materials or any of their derivatives without the instructor's express written consent."
      ]
    },
    {
      "cell_type": "markdown",
      "metadata": {
        "id": "e09u6xTYeaoX"
      },
      "source": [
        "## Problem Set 09: Practical Consideration in CNN\n",
        "\n",
        "For this problem set, you are expected to load an external dataset, and build a convolutional neural network that classifies images of Cat and Dogs. You are expected to implement the network based on the practical considerations outlined in the corresponding lecture. REview the video lecture of this course to complete the assignment. You wull need the following libraries to complete this probelem set."
      ]
    },
    {
      "cell_type": "code",
      "metadata": {
        "id": "HfzcLMsPkGb0"
      },
      "source": [
        "# Load general numpy and pandas \n",
        "import matplotlib.pyplot as plt \n",
        "import numpy as np \n",
        "import pandas as pd\n",
        "\n",
        "# Load tensorflow libraries \n",
        "import tensorflow \n",
        "from tensorflow.keras import backend\n",
        "\n",
        "\n",
        "# Dataset Libraries \n",
        "from tensorflow.keras.datasets import fashion_mnist "
      ],
      "execution_count": null,
      "outputs": []
    },
    {
      "cell_type": "code",
      "metadata": {
        "id": "j7BlHOE_gYmn"
      },
      "source": [
        "import os\n",
        "import tensorflow.keras \n",
        "from tensorflow.keras.callbacks import EarlyStopping, ModelCheckpoint \n",
        "from tensorflow.keras.models import Sequential\n",
        "from tensorflow.keras.layers import Dense, Dropout,Conv2D, MaxPool2D, BatchNormalization, Activation\n",
        "from tensorflow.keras.layers import Flatten\n",
        "from tensorflow.keras.layers import Input\n",
        "\n",
        "## Add any missing libraries "
      ],
      "execution_count": 6,
      "outputs": []
    },
    {
      "cell_type": "markdown",
      "metadata": {
        "id": "hhQ6MVMteijm"
      },
      "source": [
        "## Download an extenral dataset \n",
        "For this problem set you are expected to download an external dataset, and build a "
      ]
    },
    {
      "cell_type": "code",
      "metadata": {
        "id": "TjBbvzidgTcG"
      },
      "source": [
        "# Optional remove dataset, if previously loaded in colab.\n",
        "!rm -frd /content/sample_data/PetImages "
      ],
      "execution_count": 1,
      "outputs": []
    },
    {
      "cell_type": "code",
      "metadata": {
        "id": "RZBcDWg6gn5r"
      },
      "source": [
        "# Download Cats and Dogs Dataset as a zip file.\n",
        "!wget -O /content/sample_data/CatsAndDogs.zip https://download.microsoft.com/download/3/E/1/3E1C3F21-ECDB-4869-8368-6DEBA77B919F/kagglecatsanddogs_3367a.zip\n",
        "\n",
        "# Unzip the file under the sample_data folder \n",
        "!unzip /content/sample_data/CatsAndDogs.zip -d /content/sample_data/"
      ],
      "execution_count": null,
      "outputs": []
    },
    {
      "cell_type": "markdown",
      "metadata": {
        "id": "Q01_IY9DfoT3"
      },
      "source": [
        "Often, you will have to work with datasets that include **corrupted images**. It is important that before you use a dataset to train your model you sanetize and remove corrupted images. The code below illustrates one way to do that. In particular, it iterates over all images in the specific dataset (i.e. Cats and Dogs datasdet) and if the images are corrupt, it removes them from the dataset. The method `is_valid_jpg` checks if a particular image is corrupted or not, while the `remove_corrapted_images_from_folder` method removes all corrupted images from the dataset.  \n"
      ]
    },
    {
      "cell_type": "code",
      "metadata": {
        "id": "HrZ_z6wUfg0-",
        "outputId": "0dee8309-2195-4be7-d930-3b050abfef56",
        "colab": {
          "base_uri": "https://localhost:8080/",
          "height": 348
        }
      },
      "source": [
        "from PIL import Image\n",
        "\n",
        "def is_valid_jpg(filename):\n",
        "  try:\n",
        "    i=Image.open(filename)\n",
        "    return i.format =='JPEG'\n",
        "  except IOError:\n",
        "    return False\n",
        "\n",
        "def remove_corrapted_images_from_folder(cdir, verbose=False):\n",
        "  total=0\n",
        "  counter = 0\n",
        "  for subdir, dirs, files in os.walk(cdir):\n",
        "      for filename in files:\n",
        "          filepath = subdir + os.sep + filename\n",
        "          if filepath.endswith(\".jpg\") or filepath.endswith(\".png\"):\n",
        "            total += 1\n",
        "            if not is_valid_jpg(filepath):\n",
        "              counter +=1\n",
        "              os.remove(filepath)\n",
        "              if (verbose):\n",
        "                print(f\"--Removed file ${filepath}\")\n",
        "  print(f\"{counter} jpeg files removed out of {total} in folder {cdir}\")\n",
        "\n",
        "cat_dir = \"/content/sample_data/PetImages/Cat\"\n",
        "dog_dir = \"/content/sample_data/PetImages/Dog\"\n",
        "\n",
        "remove_corrapted_images_from_folder(cat_dir) \n",
        "remove_corrapted_images_from_folder(dog_dir)\n"
      ],
      "execution_count": 5,
      "outputs": [
        {
          "output_type": "stream",
          "text": [
            "95 jpeg files removed out of 12500 in folder /content/sample_data/PetImages/Cat\n"
          ],
          "name": "stdout"
        },
        {
          "output_type": "stream",
          "text": [
            "/usr/local/lib/python3.6/dist-packages/PIL/TiffImagePlugin.py:770: UserWarning: Possibly corrupt EXIF data.  Expecting to read 32 bytes but only got 0. Skipping tag 270\n",
            "  \" Skipping tag %s\" % (size, len(data), tag)\n",
            "/usr/local/lib/python3.6/dist-packages/PIL/TiffImagePlugin.py:770: UserWarning: Possibly corrupt EXIF data.  Expecting to read 5 bytes but only got 0. Skipping tag 271\n",
            "  \" Skipping tag %s\" % (size, len(data), tag)\n",
            "/usr/local/lib/python3.6/dist-packages/PIL/TiffImagePlugin.py:770: UserWarning: Possibly corrupt EXIF data.  Expecting to read 8 bytes but only got 0. Skipping tag 272\n",
            "  \" Skipping tag %s\" % (size, len(data), tag)\n",
            "/usr/local/lib/python3.6/dist-packages/PIL/TiffImagePlugin.py:770: UserWarning: Possibly corrupt EXIF data.  Expecting to read 8 bytes but only got 0. Skipping tag 282\n",
            "  \" Skipping tag %s\" % (size, len(data), tag)\n",
            "/usr/local/lib/python3.6/dist-packages/PIL/TiffImagePlugin.py:770: UserWarning: Possibly corrupt EXIF data.  Expecting to read 8 bytes but only got 0. Skipping tag 283\n",
            "  \" Skipping tag %s\" % (size, len(data), tag)\n",
            "/usr/local/lib/python3.6/dist-packages/PIL/TiffImagePlugin.py:770: UserWarning: Possibly corrupt EXIF data.  Expecting to read 20 bytes but only got 0. Skipping tag 306\n",
            "  \" Skipping tag %s\" % (size, len(data), tag)\n",
            "/usr/local/lib/python3.6/dist-packages/PIL/TiffImagePlugin.py:770: UserWarning: Possibly corrupt EXIF data.  Expecting to read 48 bytes but only got 0. Skipping tag 532\n",
            "  \" Skipping tag %s\" % (size, len(data), tag)\n",
            "/usr/local/lib/python3.6/dist-packages/PIL/TiffImagePlugin.py:788: UserWarning: Corrupt EXIF data.  Expecting to read 2 bytes but only got 0. \n",
            "  warnings.warn(str(msg))\n"
          ],
          "name": "stderr"
        },
        {
          "output_type": "stream",
          "text": [
            "136 jpeg files removed out of 12500 in folder /content/sample_data/PetImages/Dog\n"
          ],
          "name": "stdout"
        }
      ]
    },
    {
      "cell_type": "markdown",
      "metadata": {
        "id": "mfqRWCuAgicK"
      },
      "source": [
        "## Exercise\n",
        "\n",
        "Create a convolutional neural network to classify images in the above dataset to either Cat or Dogs. Your solution should comply with the following requirements:\n",
        "\n",
        "* Build computational blocks that include a sqeunce of `Covolution Layer`-> `BatchNormailization` -> `Activation` -> `Max Pooling` -> `Dropout Layer`.\n",
        "* Build computational blocks that include a sequence of `Dense Layer`-> `BatchNormailization Layer` -> `Activation function` -> `Max Pooling`.\n",
        "* Build a model that utilizes the above computational blocks. You can use additional layers if you like.\n",
        "* Create a manual split of the dataset set into a `Training Set` and `Validation Set`. You are expected to store the training and validation set into separate filders so they can be loaded using the `ImageDataGenerator` class.\n",
        "* Prepare `ImageDataGenerator` objects to load batches of training and validation images from the corresponding folders. Add an image augmentation layer and make sure you use the `flow_from_directory` method.\n",
        "* Train the model using `EarlyStopping` and `ModelCheckpoint` callback functions.\n",
        "* Report validation performance on each epoch.\n",
        "* Fine-tune your model to achieve classification performance above 80%.\n",
        "* Save the best model.\n",
        "* Load the best model and display the model structure (i.e. using the `model.summary()` method. \n",
        "\n",
        "\n",
        "Use as many cells as you need to complete the problem set.\n"
      ]
    },
    {
      "cell_type": "code",
      "metadata": {
        "id": "Lyv7oMfQjsSs"
      },
      "source": [
        "#\n",
        "# Use as many cells as you need. \n",
        "#"
      ],
      "execution_count": null,
      "outputs": []
    },
    {
      "cell_type": "markdown",
      "metadata": {
        "id": "80gXdanCgZ2v"
      },
      "source": [
        "Copyright Statement: Copyright © 2020 Christoforou. The materials provided by the instructor of this course, including this notebook, are for the use of the students enrolled in the course. Materials are presented in an educational context for personal use and study and should not be shared, distributed, disseminated or sold in print — or digitally — outside the course without permission. You may not, nor may you knowingly allow others to reproduce or distribute lecture notes, course materials as well as any of their derivatives without the instructor's express written consent."
      ]
    },
    {
      "cell_type": "code",
      "metadata": {
        "id": "9k78G2GRgcnf"
      },
      "source": [
        ""
      ],
      "execution_count": null,
      "outputs": []
    }
  ]
}