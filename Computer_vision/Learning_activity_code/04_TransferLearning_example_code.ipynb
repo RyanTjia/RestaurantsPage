{
  "nbformat": 4,
  "nbformat_minor": 0,
  "metadata": {
    "colab": {
      "name": "04_TransferLearning_example_code.ipynb",
      "provenance": [],
      "authorship_tag": "ABX9TyODfl4P2u/0HnWFzURzihqn",
      "include_colab_link": true
    },
    "kernelspec": {
      "name": "python3",
      "display_name": "Python 3"
    }
  },
  "cells": [
    {
      "cell_type": "markdown",
      "metadata": {
        "id": "view-in-github",
        "colab_type": "text"
      },
      "source": [
        "<a href=\"https://colab.research.google.com/github/christoforou/CUS1166_Project_Template/blob/master/Computer_vision/Learning_activity_code/04_TransferLearning_example_code.ipynb\" target=\"_parent\"><img src=\"https://colab.research.google.com/assets/colab-badge.svg\" alt=\"Open In Colab\"/></a>"
      ]
    },
    {
      "cell_type": "markdown",
      "metadata": {
        "id": "SoKGHVI2gK_E"
      },
      "source": [
        "This notebook is part the of Dr. Christoforos Christoforou's course materials. You may not, nor may you knowingly allow others to reproduce or distribute lecture notes, course materials or any of their derivatives without the instructor's express written consent."
      ]
    },
    {
      "cell_type": "markdown",
      "metadata": {
        "id": "nQMgeFrMgCLB"
      },
      "source": [
        "## Tranfer Learing and Practical Consideration Traning CNNs - Sample code\n",
        "This code showcase the use of **Transfer Learning**  to use an existing pre-trained model and use it to classify images at a different domain. The code is explained as part of the corresponding course lecture, refer to the lecture video for details explanation of the various sections on the example. In brief, the example implements the following:\n",
        "- Downloads a sample dataset from kaggle (you need a API key to download the data). \n",
        "- Defines a generator to load batches for a training set. \n",
        "- Creates network that utilizes transfer learning for object recognition. \n",
        "- Train the network.\n",
        "- Using the network to perform object recognition in the new image domain. "
      ]
    },
    {
      "cell_type": "code",
      "metadata": {
        "id": "TjBbvzidgTcG"
      },
      "source": [
        "import pandas as pd\n",
        "import numpy as np\n",
        "import os\n",
        "import tensorflow.keras\n",
        "import matplotlib.pyplot as plt\n",
        "\n",
        "from tensorflow.keras.layers import Dense,GlobalAveragePooling2D\n",
        "from tensorflow.keras.applications import MobileNet\n",
        "from tensorflow.keras.preprocessing import image\n",
        "from tensorflow.keras.applications.mobilenet import preprocess_input\n",
        "from tensorflow.keras.applications.mobilenet import decode_predictions\n",
        "from tensorflow.keras.preprocessing.image import ImageDataGenerator\n",
        "from tensorflow.keras.models import Model\n",
        "from tensorflow.keras.models import Sequential\n",
        "from tensorflow.keras.optimizers import Adam\n",
        "\n",
        "from skimage import io \n",
        "import matplotlib.pyplot as plt\n",
        "from skimage import io\n",
        "from skimage.transform import resize"
      ],
      "execution_count": 1,
      "outputs": []
    },
    {
      "cell_type": "markdown",
      "metadata": {
        "id": "SoevzQZjhnJm"
      },
      "source": [
        "## Download the dataset"
      ]
    },
    {
      "cell_type": "code",
      "metadata": {
        "id": "RZBcDWg6gn5r"
      },
      "source": [
        "# Upload the kaggle API key of your account to download the data.  \n",
        "!pip install -q kaggle\n",
        "from google.colab import files\n",
        "files.upload() \n",
        "!mkdir ~/.kaggle\n",
        "!cp kaggle.json ~/.kaggle/\n",
        "!chmod 600 ~/.kaggle/kaggle.json\n",
        "!kaggle datasets download -d pranavraikokte/covid19-image-dataset\n",
        "!mkdir sample_data/covid\n",
        "!unzip covid19-image-dataset.zip -d sample_data/covid"
      ],
      "execution_count": null,
      "outputs": []
    },
    {
      "cell_type": "code",
      "metadata": {
        "id": "x6-f5HJNinsA"
      },
      "source": [
        "img = io.imread('/content/sample_data/covid/Covid19-dataset/train/Covid/01.jpeg')\n",
        "plt.imshow(img)"
      ],
      "execution_count": null,
      "outputs": []
    },
    {
      "cell_type": "markdown",
      "metadata": {
        "id": "QdJTZ9aNifWb"
      },
      "source": [
        "## Creating the model using transfer learning."
      ]
    },
    {
      "cell_type": "code",
      "metadata": {
        "id": "SYgfbvhOi3hT"
      },
      "source": [
        "# Impoort the mobilenet model but discard the last layer\n",
        "base_model = MobileNet(weights='imagenet', include_top=False,input_shape=(224,224,3))\n",
        "\n",
        "augmented_model = Sequential()\n",
        "\n",
        "augmented_model.add(base_model)  # Add the base model.\n",
        "augmented_model.add(GlobalAveragePooling2D())\n",
        "augmented_model.add(Dense(units=1024, activation='relu'))\n",
        "augmented_model.add(Dense(units=512,activation='relu'))\n",
        "augmented_model.add(Dense(units=3, activation='softmax'))"
      ],
      "execution_count": null,
      "outputs": []
    },
    {
      "cell_type": "code",
      "metadata": {
        "id": "SxJKyraqjBQr"
      },
      "source": [
        "# Specify Trainable parameters \n",
        "for i, layer in enumerate(augmented_model.layers):\n",
        "   if (i==0):\n",
        "     layer.trainable = False \n",
        "     print(f\"Layer {i} (Non-trainable): {layer}\")\n",
        "   else:\n",
        "      layer.trainable = True \n",
        "      print(f\"Layer {i} (Trainable): {layer}\")\n"
      ],
      "execution_count": null,
      "outputs": []
    },
    {
      "cell_type": "markdown",
      "metadata": {
        "id": "ZkkzkEemjJwV"
      },
      "source": [
        "## Define data generator \n"
      ]
    },
    {
      "cell_type": "code",
      "metadata": {
        "id": "VuxFO7nHjMrv"
      },
      "source": [
        "data_path = '/content/sample_data/covid/Covid19-dataset/train'\n",
        "data_path_valid = '/content/sample_data/covid/Covid19-dataset/test'"
      ],
      "execution_count": null,
      "outputs": []
    },
    {
      "cell_type": "code",
      "metadata": {
        "id": "7WjGi7YNjP0S"
      },
      "source": [
        "train_datagen = ImageDataGenerator(\n",
        "    rotation_range=20,\n",
        "    width_shift_range=0.2,\n",
        "    height_shift_range=0.2,\n",
        "    horizontal_flip=True,\n",
        "    preprocessing_function=preprocess_input) "
      ],
      "execution_count": null,
      "outputs": []
    },
    {
      "cell_type": "code",
      "metadata": {
        "id": "bNT0960MjQXS"
      },
      "source": [
        "train_generator = train_datagen.flow_from_directory(data_path,\n",
        "                                                    target_size=(224,224),\n",
        "                                                    batch_size=32,\n",
        "                                                    class_mode='categorical')\n",
        "\n",
        "validation_generator = train_datagen.flow_from_directory(data_path_valid,\n",
        "                                                    target_size=(224,224),\n",
        "                                                    batch_size=32,\n",
        "                                                    class_mode='categorical')"
      ],
      "execution_count": null,
      "outputs": []
    },
    {
      "cell_type": "markdown",
      "metadata": {
        "id": "BxDG7Gg0jWNp"
      },
      "source": [
        "## Compile and Train the model "
      ]
    },
    {
      "cell_type": "code",
      "metadata": {
        "id": "bNw1BeDpjYuL"
      },
      "source": [
        "# Now we can prepaire our model for training\n",
        "\n",
        "augmented_model.compile(optimizer='Adam', loss='categorical_crossentropy', metrics=['accuracy'])\n",
        "\n",
        "step_size_train = train_generator.n / train_generator.batch_size\n",
        "step_size_valid = validation_generator.n / validation_generator.batch_size\n",
        "\n",
        "hist = augmented_model.fit(train_generator, steps_per_epoch=step_size_train, epochs=30,validation_data=validation_generator, validation_steps=step_size_valid)"
      ],
      "execution_count": null,
      "outputs": []
    },
    {
      "cell_type": "markdown",
      "metadata": {
        "id": "KI7T5iWZjccp"
      },
      "source": [
        "## Apply the model and visualize results "
      ]
    },
    {
      "cell_type": "code",
      "metadata": {
        "id": "lbOIxxRbje_v"
      },
      "source": [
        "data_path_predict = '/content/sample_data/covid/Covid19-dataset/test/'\n",
        "image_files = [\n",
        "    data_path_predict + \"Covid/0100.jpeg\",\n",
        "    data_path_predict + \"Covid/0102.jpeg\",\n",
        "    data_path_predict + \"Covid/0105.png\",\n",
        "    data_path_predict + \"Covid/0119.jpeg\",\n",
        "    data_path_predict + \"Covid/COVID-00003b.jpg\",\n",
        "    data_path_predict + \"Viral Pneumonia/0101.jpeg\",\n",
        "    data_path_predict + \"Viral Pneumonia/0102.jpeg\",\n",
        "    data_path_predict + \"Viral Pneumonia/0105.jpeg\",\n",
        "    data_path_predict + \"Viral Pneumonia/0109.jpeg\",\n",
        "    data_path_predict + \"Viral Pneumonia/0112.jpeg\",\n",
        "    data_path_predict + \"Normal/0103.jpeg\",\n",
        "    data_path_predict + \"Normal/0106.jpeg\",\n",
        "    data_path_predict + \"Normal/0107.jpeg\",\n",
        "    data_path_predict + \"Normal/0109.jpeg\",\n",
        "    data_path_predict + \"Normal/0110.jpeg\",               \n",
        "]"
      ],
      "execution_count": null,
      "outputs": []
    },
    {
      "cell_type": "code",
      "metadata": {
        "id": "d3yjrzRHjquP"
      },
      "source": [
        "IMAGE_WIDTH = 224\n",
        "IMAGE_HEIGHT = 224\n",
        "IMAGE_CHANNELS = 3"
      ],
      "execution_count": null,
      "outputs": []
    },
    {
      "cell_type": "code",
      "metadata": {
        "id": "6n82F9CDjnp4"
      },
      "source": [
        "mg_index = 4\n",
        "pred_all = []\n",
        "for img_index in range(len(image_files)):\n",
        "  print(image_files[img_index])\n",
        "  image = io.imread(image_files[img_index]) \n",
        "  image = resize(image,output_shape=(IMAGE_WIDTH,IMAGE_HEIGHT,IMAGE_CHANNELS), preserve_range=True)\n",
        "\n",
        "  x = np.copy(image)               # create a copy of the image \n",
        "  x = np.expand_dims(x, axis=0)    # Add an observation dimension  \n",
        "  x = preprocess_input(x)          # pre-process image, based on mobileNet pre-processing. \n",
        "  y_pred = augmented_model.predict(x)        # Apply Mobile Net to make predictions.\n",
        "  pred_all.append(y_pred)\n",
        "  \n",
        "  print(f\"Image index {img_index} predicted class : {np.argmax(y_pred)}\")"
      ],
      "execution_count": null,
      "outputs": []
    },
    {
      "cell_type": "code",
      "metadata": {
        "id": "DXwsO-MOjwT5"
      },
      "source": [
        "class_labels = [\"Covid\",\"Normal\", \"Pneumonia\"]\n",
        "true_target = [0,0,0,0,0,2,2,2,2,2,1,1,1,1,1]\n",
        "\n",
        "fig = plt.figure(figsize=(10,10))\n",
        "for img_index in range(len(image_files)):\n",
        "  #print(image_files[img_index])\n",
        "  image = io.imread(image_files[img_index]) \n",
        "  image = resize(image,output_shape=(IMAGE_WIDTH,IMAGE_HEIGHT,IMAGE_CHANNELS), preserve_range=False)\n",
        "  y_pred = np.argmax(pred_all[img_index])\n",
        "  y_true = true_target[img_index] \n",
        "\n",
        "  plt.subplot(5,4,img_index+1)\n",
        "  plt.imshow(image)\n",
        "  plt.title(f\"T: {class_labels[y_true]} | P: {class_labels[y_pred]}\")\n",
        "\n",
        "fig.tight_layout()\n"
      ],
      "execution_count": null,
      "outputs": []
    },
    {
      "cell_type": "markdown",
      "metadata": {
        "id": "80gXdanCgZ2v"
      },
      "source": [
        "Copyright Statement: Copyright © 2020 Christoforou. The materials provided by the instructor of this course, including this notebook, are for the use of the students enrolled in the course. Materials are presented in an educational context for personal use and study and should not be shared, distributed, disseminated or sold in print — or digitally — outside the course without permission. You may not, nor may you knowingly allow others to reproduce or distribute lecture notes, course materials as well as any of their derivatives without the instructor's express written consent."
      ]
    },
    {
      "cell_type": "code",
      "metadata": {
        "id": "9k78G2GRgcnf"
      },
      "source": [
        ""
      ],
      "execution_count": null,
      "outputs": []
    }
  ]
}